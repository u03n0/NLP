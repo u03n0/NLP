{
 "cells": [
  {
   "cell_type": "code",
   "execution_count": 4,
   "metadata": {},
   "outputs": [],
   "source": [
    "import pandas as pd\n",
    "from tf_idf import tf, idf"
   ]
  },
  {
   "cell_type": "markdown",
   "metadata": {},
   "source": [
    "We have a corpus 'D' below named 'corpus', comprised of 3 sentences (documents)\n",
    "and a term 't' as 'ball'"
   ]
  },
  {
   "cell_type": "code",
   "execution_count": 3,
   "metadata": {},
   "outputs": [],
   "source": [
    "corpus = [\n",
    "    \"The dog chased the cat around the house\", # document 1\n",
    "    \"The cat played with the ball of yarn\", # document 2\n",
    "    \"Both the dog and cat sleep in the house\" # document 3\n",
    "]\n",
    "\n",
    "term = \"ball\""
   ]
  },
  {
   "cell_type": "markdown",
   "metadata": {},
   "source": [
    "we can display the term frequency (TF) for the term in each document.\n",
    "\n",
    "![image.png](../../../images/tf.png)"
   ]
  },
  {
   "cell_type": "markdown",
   "metadata": {},
   "source": [
    "We can see that ball did not appear in document 1 nor 3 so the term frequency is 0 as expected.\n",
    "However, it appears once in document 2, giving us: 0.125\n"
   ]
  },
  {
   "cell_type": "code",
   "execution_count": 8,
   "metadata": {},
   "outputs": [
    {
     "name": "stdout",
     "output_type": "stream",
     "text": [
      "TF of 'ball' in document 1 is: 0.0\n",
      "TF of 'ball' in document 2 is: 0.125\n",
      "TF of 'ball' in document 3 is: 0.0\n"
     ]
    }
   ],
   "source": [
    "for idx, d in enumerate(corpus):\n",
    "    print(f\"TF of '{term}' in document {idx + 1} is: {tf(d, term)}\")"
   ]
  },
  {
   "cell_type": "markdown",
   "metadata": {},
   "source": [
    "we can make a set of all the terms present in the corpus in order to systematically go through them,\n",
    "calculating the IDF scores."
   ]
  },
  {
   "cell_type": "code",
   "execution_count": 14,
   "metadata": {},
   "outputs": [
    {
     "name": "stdout",
     "output_type": "stream",
     "text": [
      "15\n"
     ]
    },
    {
     "data": {
      "text/plain": [
       "{'and',\n",
       " 'around',\n",
       " 'ball',\n",
       " 'both',\n",
       " 'cat',\n",
       " 'chased',\n",
       " 'dog',\n",
       " 'house',\n",
       " 'in',\n",
       " 'of',\n",
       " 'played',\n",
       " 'sleep',\n",
       " 'the',\n",
       " 'with',\n",
       " 'yarn'}"
      ]
     },
     "execution_count": 14,
     "metadata": {},
     "output_type": "execute_result"
    }
   ],
   "source": [
    "vocab = {word.lower() for d in corpus for word in d.split()}\n",
    "print(len(vocab))\n",
    "vocab"
   ]
  },
  {
   "cell_type": "code",
   "execution_count": 15,
   "metadata": {},
   "outputs": [
    {
     "name": "stdout",
     "output_type": "stream",
     "text": [
      "IDF of 'around' is: 0.47712125471966244\n",
      "IDF of 'sleep' is: 0.47712125471966244\n",
      "IDF of 'in' is: 0.47712125471966244\n",
      "IDF of 'chased' is: 0.47712125471966244\n",
      "IDF of 'of' is: 0.47712125471966244\n",
      "IDF of 'yarn' is: 0.47712125471966244\n",
      "IDF of 'both' is: 0\n",
      "IDF of 'dog' is: 0.17609125905568124\n",
      "IDF of 'and' is: 0.47712125471966244\n",
      "IDF of 'the' is: 0.0\n",
      "IDF of 'played' is: 0.47712125471966244\n",
      "IDF of 'ball' is: 0.47712125471966244\n",
      "IDF of 'with' is: 0.47712125471966244\n",
      "IDF of 'cat' is: 0.0\n",
      "IDF of 'house' is: 0.17609125905568124\n"
     ]
    }
   ],
   "source": [
    "for term in vocab:\n",
    "    print(f\"IDF of '{term}' is: {idf(corpus, term)}\")"
   ]
  }
 ],
 "metadata": {
  "kernelspec": {
   "display_name": "venv",
   "language": "python",
   "name": "python3"
  },
  "language_info": {
   "codemirror_mode": {
    "name": "ipython",
    "version": 3
   },
   "file_extension": ".py",
   "mimetype": "text/x-python",
   "name": "python",
   "nbconvert_exporter": "python",
   "pygments_lexer": "ipython3",
   "version": "3.11.2"
  }
 },
 "nbformat": 4,
 "nbformat_minor": 2
}
